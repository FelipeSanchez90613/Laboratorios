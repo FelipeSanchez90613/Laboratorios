{
  "nbformat": 4,
  "nbformat_minor": 0,
  "metadata": {
    "colab": {
      "provenance": [],
      "authorship_tag": "ABX9TyNPEcdE0D3g4n4HcOYMDRtD",
      "include_colab_link": true
    },
    "kernelspec": {
      "name": "python3",
      "display_name": "Python 3"
    },
    "language_info": {
      "name": "python"
    }
  },
  "cells": [
    {
      "cell_type": "markdown",
      "metadata": {
        "id": "view-in-github",
        "colab_type": "text"
      },
      "source": [
        "<a href=\"https://colab.research.google.com/github/FelipeSanchez90613/Laboratorios/blob/main/Laboratorio1Seminario.ipynb\" target=\"_parent\"><img src=\"https://colab.research.google.com/assets/colab-badge.svg\" alt=\"Open In Colab\"/></a>"
      ]
    },
    {
      "cell_type": "code",
      "execution_count": null,
      "metadata": {
        "id": "1b4zbn0gJXko"
      },
      "outputs": [],
      "source": [
        "import pandas as pd\n",
        "import numpy as np\n",
        "import matplotlib. pyplot as plt"
      ]
    },
    {
      "cell_type": "code",
      "source": [
        "data = {\"year\": [\n",
        "2010, 2011, 2012,\n",
        "2010, 2011, 2012,\n",
        "2010, 2011, 2012\n",
        "] ,\n",
        "\"team\": [\n",
        "\"FCBarcelona\", \"FCBarcelona\",\n",
        "\"FCBarcelona\", \"RMadrid\",\n",
        "\"RMadrid\", \"RMadrid\",\n",
        "\"ValenciaCF\", \"ValenciaCF\",\n",
        "\"ValenciaCF\"\n",
        "] ,\n",
        "\"wins\": [30, 28, 32, 29, 32, 26, 21, 17, 19],\n",
        "\"draws\": [6, 7, 4, 5, 4, 7, 8, 10, 8],\n",
        "\"losses\": [2, 3, 2, 4, 2, 5, 9, 11, 11]\n",
        "}\n",
        "football = pd.DataFrame(data , columns = [\n",
        "\"year\", \"team\", \"wins\", \"draws\", \"losses\"\n",
        "]\n",
        ")"
      ],
      "metadata": {
        "id": "NXsQZvWGMRkc"
      },
      "execution_count": 5,
      "outputs": []
    },
    {
      "cell_type": "code",
      "source": [
        "data"
      ],
      "metadata": {
        "colab": {
          "base_uri": "https://localhost:8080/"
        },
        "id": "J4PK5OH0NbeN",
        "outputId": "4bca5d7d-4d13-4171-9856-759f3b47b517"
      },
      "execution_count": 9,
      "outputs": [
        {
          "output_type": "execute_result",
          "data": {
            "text/plain": [
              "{'year': [2010, 2011, 2012, 2010, 2011, 2012, 2010, 2011, 2012],\n",
              " 'team': ['FCBarcelona',\n",
              "  'FCBarcelona',\n",
              "  'FCBarcelona',\n",
              "  'RMadrid',\n",
              "  'RMadrid',\n",
              "  'RMadrid',\n",
              "  'ValenciaCF',\n",
              "  'ValenciaCF',\n",
              "  'ValenciaCF'],\n",
              " 'wins': [30, 28, 32, 29, 32, 26, 21, 17, 19],\n",
              " 'draws': [6, 7, 4, 5, 4, 7, 8, 10, 8],\n",
              " 'losses': [2, 3, 2, 4, 2, 5, 9, 11, 11]}"
            ]
          },
          "metadata": {},
          "execution_count": 9
        }
      ]
    }
  ]
}